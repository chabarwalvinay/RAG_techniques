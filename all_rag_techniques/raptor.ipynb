{
 "cells": [
  {
   "cell_type": "markdown",
   "id": "47ff2157",
   "metadata": {},
   "source": [
    "# raptor.ipynb"
   ]
  }
 ],
 "metadata": {},
 "nbformat": 4,
 "nbformat_minor": 5
}
