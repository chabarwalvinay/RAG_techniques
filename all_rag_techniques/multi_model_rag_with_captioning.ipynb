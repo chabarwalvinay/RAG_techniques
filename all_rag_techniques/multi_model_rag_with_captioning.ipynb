{
 "cells": [
  {
   "cell_type": "markdown",
   "id": "ae4796eb",
   "metadata": {},
   "source": [
    "# multi_model_rag_with_captioning.ipynb"
   ]
  }
 ],
 "metadata": {},
 "nbformat": 4,
 "nbformat_minor": 5
}
