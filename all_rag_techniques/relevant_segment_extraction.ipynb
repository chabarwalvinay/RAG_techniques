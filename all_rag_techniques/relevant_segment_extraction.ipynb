{
 "cells": [
  {
   "cell_type": "markdown",
   "id": "b25e4c5f",
   "metadata": {},
   "source": [
    "# relevant_segment_extraction.ipynb"
   ]
  }
 ],
 "metadata": {},
 "nbformat": 4,
 "nbformat_minor": 5
}
