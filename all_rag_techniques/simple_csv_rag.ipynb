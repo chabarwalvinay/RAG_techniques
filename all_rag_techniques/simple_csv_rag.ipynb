{
 "cells": [
  {
   "cell_type": "markdown",
   "id": "39b1a745",
   "metadata": {},
   "source": [
    "# simple_csv_rag.ipynb"
   ]
  }
 ],
 "metadata": {},
 "nbformat": 4,
 "nbformat_minor": 5
}
