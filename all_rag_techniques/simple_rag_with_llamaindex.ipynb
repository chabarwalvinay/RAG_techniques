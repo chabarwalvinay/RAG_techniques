{
 "cells": [
  {
   "cell_type": "markdown",
   "id": "cefcce0c",
   "metadata": {},
   "source": [
    "# simple_rag_with_llamaindex.ipynb"
   ]
  }
 ],
 "metadata": {},
 "nbformat": 4,
 "nbformat_minor": 5
}
