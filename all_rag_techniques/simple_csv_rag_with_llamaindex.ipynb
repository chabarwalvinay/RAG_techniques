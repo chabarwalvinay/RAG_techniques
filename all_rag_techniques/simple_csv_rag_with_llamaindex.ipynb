{
 "cells": [
  {
   "cell_type": "markdown",
   "id": "4f063977",
   "metadata": {},
   "source": [
    "# simple_csv_rag_with_llamaindex.ipynb"
   ]
  }
 ],
 "metadata": {},
 "nbformat": 4,
 "nbformat_minor": 5
}
