{
 "cells": [
  {
   "cell_type": "markdown",
   "id": "24a76979",
   "metadata": {},
   "source": [
    "# reranking_with_llamaindex.ipynb"
   ]
  }
 ],
 "metadata": {},
 "nbformat": 4,
 "nbformat_minor": 5
}
