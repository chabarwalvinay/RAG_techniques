{
 "cells": [
  {
   "cell_type": "markdown",
   "id": "2d81e6e7",
   "metadata": {},
   "source": [
    "# self_rag.ipynb"
   ]
  }
 ],
 "metadata": {},
 "nbformat": 4,
 "nbformat_minor": 5
}
