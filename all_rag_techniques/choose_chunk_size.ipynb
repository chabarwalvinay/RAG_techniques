{
 "cells": [
  {
   "cell_type": "markdown",
   "id": "7b1f1dea",
   "metadata": {},
   "source": [
    "# choose_chunk_size.ipynb"
   ]
  }
 ],
 "metadata": {},
 "nbformat": 4,
 "nbformat_minor": 5
}
