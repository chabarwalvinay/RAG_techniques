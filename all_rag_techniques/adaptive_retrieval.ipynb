{
 "cells": [
  {
   "cell_type": "markdown",
   "id": "167c35c2",
   "metadata": {},
   "source": [
    "# adaptive_retrieval.ipynb"
   ]
  }
 ],
 "metadata": {},
 "nbformat": 4,
 "nbformat_minor": 5
}
