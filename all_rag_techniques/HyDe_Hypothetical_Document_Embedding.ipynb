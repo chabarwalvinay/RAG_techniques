{
 "cells": [
  {
   "cell_type": "markdown",
   "id": "b82a816e",
   "metadata": {},
   "source": [
    "# HyDe_Hypothetical_Document_Embedding.ipynb"
   ]
  }
 ],
 "metadata": {},
 "nbformat": 4,
 "nbformat_minor": 5
}
