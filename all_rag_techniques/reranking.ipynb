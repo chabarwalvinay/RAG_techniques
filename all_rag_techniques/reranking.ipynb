{
 "cells": [
  {
   "cell_type": "markdown",
   "id": "640de73d",
   "metadata": {},
   "source": [
    "# reranking.ipynb"
   ]
  }
 ],
 "metadata": {},
 "nbformat": 4,
 "nbformat_minor": 5
}
