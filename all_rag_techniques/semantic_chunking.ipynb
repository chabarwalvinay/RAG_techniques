{
 "cells": [
  {
   "cell_type": "markdown",
   "id": "52dbf435",
   "metadata": {},
   "source": [
    "# semantic_chunking.ipynb"
   ]
  }
 ],
 "metadata": {},
 "nbformat": 4,
 "nbformat_minor": 5
}
